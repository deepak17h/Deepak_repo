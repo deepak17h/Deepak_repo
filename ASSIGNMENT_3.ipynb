{
 "cells": [
  {
   "cell_type": "code",
   "execution_count": null,
   "id": "ab5c6166",
   "metadata": {},
   "outputs": [],
   "source": [
    "1. Why are functions advantageous to have in your programs?"
   ]
  },
  {
   "cell_type": "code",
   "execution_count": null,
   "id": "4dfedc1c",
   "metadata": {},
   "outputs": [],
   "source": [
    "Ans:\n",
    "    Functions help break our program into smaller chunks.As our program grows larger and \n",
    "    larger, functions make it more organized and manageable.\n",
    "    It avoids repetition and makes the code reusable."
   ]
  },
  {
   "cell_type": "code",
   "execution_count": null,
   "id": "bdb2f051",
   "metadata": {},
   "outputs": [],
   "source": [
    "2. When does the code in a function run: when it's specified or when it's called?"
   ]
  },
  {
   "cell_type": "code",
   "execution_count": null,
   "id": "5cc26b95",
   "metadata": {},
   "outputs": [],
   "source": [
    "Ans:\n",
    "    The code in a function executes when the function is called, not when the function is specified."
   ]
  },
  {
   "cell_type": "code",
   "execution_count": null,
   "id": "3e0498a1",
   "metadata": {},
   "outputs": [],
   "source": [
    "3. What statement creates a function?"
   ]
  },
  {
   "cell_type": "code",
   "execution_count": null,
   "id": "256a7a88",
   "metadata": {},
   "outputs": [],
   "source": [
    "Ans:\n",
    "    Keyword def that marks the start of the function with colon (:) to mark the end of the function header."
   ]
  },
  {
   "cell_type": "code",
   "execution_count": null,
   "id": "8b1515f5",
   "metadata": {},
   "outputs": [],
   "source": [
    "#Syntax of Function\n",
    "def function_name(parameters):\n",
    "\t\"\"\"docstring\"\"\"\n",
    "\tstatement(s)"
   ]
  },
  {
   "cell_type": "code",
   "execution_count": null,
   "id": "581825ed",
   "metadata": {},
   "outputs": [],
   "source": [
    "4. What is the difference between a function and a function call?"
   ]
  },
  {
   "cell_type": "code",
   "execution_count": null,
   "id": "8c3883cc",
   "metadata": {},
   "outputs": [],
   "source": [
    "Ans:\n",
    "    A function is a block of code which only runs when it is called.\n",
    "    You can pass data, known as parameters, into a function.\n",
    "    A function can return data as a result.\n",
    "    eg: def my_function():\n",
    "              print(\"Hello from a function\")\n",
    "    To call a function, use the function name followed by parenthesis:\n",
    "        def my_function():\n",
    "              print(\"Hello from a function\")\n",
    "\n",
    "        my_function()"
   ]
  },
  {
   "cell_type": "code",
   "execution_count": null,
   "id": "70ceb9d2",
   "metadata": {},
   "outputs": [],
   "source": [
    "5. How many global scopes are there in a Python program? How many local scopes?"
   ]
  },
  {
   "cell_type": "code",
   "execution_count": null,
   "id": "899d4c8b",
   "metadata": {},
   "outputs": [],
   "source": [
    "Ans:\n",
    "    There is one global scope, and a local scope is created whenever a function is called."
   ]
  },
  {
   "cell_type": "code",
   "execution_count": null,
   "id": "cba0667b",
   "metadata": {},
   "outputs": [],
   "source": [
    "6. What happens to variables in a local scope when the function call returns?"
   ]
  },
  {
   "cell_type": "code",
   "execution_count": null,
   "id": "a31c30b0",
   "metadata": {},
   "outputs": [],
   "source": [
    "Ans:\n",
    "    hen a function returns, the local scope is destroyed, and all the variables in it are forgotten."
   ]
  },
  {
   "cell_type": "code",
   "execution_count": null,
   "id": "2f4831e0",
   "metadata": {},
   "outputs": [],
   "source": [
    "7. What is the concept of a return value? Is it possible to have a return value in an expression?"
   ]
  },
  {
   "cell_type": "code",
   "execution_count": null,
   "id": "badf0fc5",
   "metadata": {},
   "outputs": [],
   "source": [
    "Ans:\n",
    "    A return value is the value that a function call evaluates to. \n",
    "    Like any value, a return value can be used as part of an expression."
   ]
  },
  {
   "cell_type": "code",
   "execution_count": null,
   "id": "bd070191",
   "metadata": {},
   "outputs": [],
   "source": [
    "8. If a function does not have a return statement, what is the return value of a call to that function?"
   ]
  },
  {
   "cell_type": "code",
   "execution_count": null,
   "id": "c61d7af9",
   "metadata": {},
   "outputs": [],
   "source": [
    "Ans:\n",
    "    it returns None"
   ]
  },
  {
   "cell_type": "code",
   "execution_count": null,
   "id": "f728b80d",
   "metadata": {},
   "outputs": [],
   "source": [
    "9. How do you make a function variable refer to the global variable?"
   ]
  },
  {
   "cell_type": "code",
   "execution_count": null,
   "id": "6de8f846",
   "metadata": {},
   "outputs": [],
   "source": [
    "Ans:\n",
    "    you can use the global keyword to declare which variables are global."
   ]
  },
  {
   "cell_type": "code",
   "execution_count": null,
   "id": "cbed924c",
   "metadata": {},
   "outputs": [],
   "source": [
    "10. What is the data type of None?"
   ]
  },
  {
   "cell_type": "code",
   "execution_count": null,
   "id": "9a157b88",
   "metadata": {},
   "outputs": [],
   "source": [
    "Ans:\n",
    "    None type"
   ]
  },
  {
   "cell_type": "code",
   "execution_count": null,
   "id": "24db8f47",
   "metadata": {},
   "outputs": [],
   "source": [
    "11. What does the sentence import areallyourpetsnamederic do?"
   ]
  },
  {
   "cell_type": "code",
   "execution_count": null,
   "id": "6178c798",
   "metadata": {},
   "outputs": [],
   "source": [
    "Ans:\n",
    "    imports a module named areallyourpetsnamederic."
   ]
  },
  {
   "cell_type": "code",
   "execution_count": null,
   "id": "6177e73f",
   "metadata": {},
   "outputs": [],
   "source": [
    "12. If you had a bacon() feature in a spam module, what would you call it after importing spam?"
   ]
  },
  {
   "cell_type": "code",
   "execution_count": null,
   "id": "6b5cc3f2",
   "metadata": {},
   "outputs": [],
   "source": [
    "Ans:\n",
    "    spam.bacon()"
   ]
  },
  {
   "cell_type": "code",
   "execution_count": null,
   "id": "5f0f9b7a",
   "metadata": {},
   "outputs": [],
   "source": [
    "13. What can you do to save a programme from crashing if it encounters an error?"
   ]
  },
  {
   "cell_type": "code",
   "execution_count": null,
   "id": "e6e69454",
   "metadata": {},
   "outputs": [],
   "source": [
    "Ans:\n",
    "    Place the line of code that might cause an error in a try clause and use except block to handle the error."
   ]
  },
  {
   "cell_type": "code",
   "execution_count": null,
   "id": "86ddf02f",
   "metadata": {},
   "outputs": [],
   "source": [
    "14. What is the purpose of the try clause? What is the purpose of the except clause?"
   ]
  },
  {
   "cell_type": "code",
   "execution_count": null,
   "id": "6ae254ea",
   "metadata": {},
   "outputs": [],
   "source": [
    "Ans:\n",
    "    The Python try… except statement catches an exception. \n",
    "    It is used to test code for an error which is written in the “try” statement. \n",
    "    If an error is encountered, the contents of the “except” block are run."
   ]
  }
 ],
 "metadata": {
  "kernelspec": {
   "display_name": "Python 3 (ipykernel)",
   "language": "python",
   "name": "python3"
  },
  "language_info": {
   "codemirror_mode": {
    "name": "ipython",
    "version": 3
   },
   "file_extension": ".py",
   "mimetype": "text/x-python",
   "name": "python",
   "nbconvert_exporter": "python",
   "pygments_lexer": "ipython3",
   "version": "3.9.7"
  }
 },
 "nbformat": 4,
 "nbformat_minor": 5
}
