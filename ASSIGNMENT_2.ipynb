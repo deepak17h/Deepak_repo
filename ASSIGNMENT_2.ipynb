{
 "cells": [
  {
   "cell_type": "code",
   "execution_count": null,
   "id": "b6e36dfe",
   "metadata": {},
   "outputs": [],
   "source": [
    "1.What are the two values of the boolean data types? how do you write them ?"
   ]
  },
  {
   "cell_type": "code",
   "execution_count": null,
   "id": "bf55e4e7",
   "metadata": {},
   "outputs": [],
   "source": [
    "Ans:\n",
    "    True\n",
    "    False"
   ]
  },
  {
   "cell_type": "code",
   "execution_count": 2,
   "id": "2eafdc55",
   "metadata": {},
   "outputs": [
    {
     "name": "stdout",
     "output_type": "stream",
     "text": [
      "True <class 'bool'>\n",
      "False <class 'bool'>\n"
     ]
    }
   ],
   "source": [
    "a=True\n",
    "b=False\n",
    "print(a,type(a))\n",
    "print(b,type(b))"
   ]
  },
  {
   "cell_type": "code",
   "execution_count": null,
   "id": "a6892252",
   "metadata": {},
   "outputs": [],
   "source": [
    "2. What are the three different types of Boolean operators?"
   ]
  },
  {
   "cell_type": "code",
   "execution_count": null,
   "id": "ded44012",
   "metadata": {},
   "outputs": [],
   "source": [
    "Ans:\n",
    "    or\n",
    "    and\n",
    "    not"
   ]
  },
  {
   "cell_type": "code",
   "execution_count": 3,
   "id": "4af970a8",
   "metadata": {},
   "outputs": [
    {
     "name": "stdout",
     "output_type": "stream",
     "text": [
      "True\n",
      "True\n",
      "False\n"
     ]
    }
   ],
   "source": [
    "a=100\n",
    "b=200\n",
    "print(a>50 and b>100) #  and\n",
    "print(a>200 or b>100) #  or\n",
    "print(not(a>10)) #  not"
   ]
  },
  {
   "cell_type": "code",
   "execution_count": null,
   "id": "fc584895",
   "metadata": {},
   "outputs": [],
   "source": [
    "3. Make a list of each Boolean operator's truth tables\n",
    "(i.e. every possible combination of Boolean values for the operator and what it evaluate) ?"
   ]
  },
  {
   "cell_type": "code",
   "execution_count": null,
   "id": "904d5a75",
   "metadata": {},
   "outputs": [],
   "source": [
    "Ans:\n",
    "    Truth Table for and operaotor\n",
    "True and True is True\n",
    "True and False is False\n",
    "False and True is False\n",
    "False and False is False"
   ]
  },
  {
   "cell_type": "code",
   "execution_count": null,
   "id": "b78e78a0",
   "metadata": {},
   "outputs": [],
   "source": [
    "    Truth Table for or operaotor\n",
    "True and True is True\n",
    "True and False is True\n",
    "False and True is True\n",
    "False and False is False"
   ]
  },
  {
   "cell_type": "code",
   "execution_count": null,
   "id": "8593c544",
   "metadata": {},
   "outputs": [],
   "source": [
    "    Truth Table for not operaotor\n",
    "True not is False \n",
    "False not is True"
   ]
  },
  {
   "cell_type": "code",
   "execution_count": null,
   "id": "14375a4d",
   "metadata": {},
   "outputs": [],
   "source": [
    "4. What are the values of the following expressions ?"
   ]
  },
  {
   "cell_type": "code",
   "execution_count": 4,
   "id": "419ce1c5",
   "metadata": {},
   "outputs": [
    {
     "data": {
      "text/plain": [
       "False"
      ]
     },
     "execution_count": 4,
     "metadata": {},
     "output_type": "execute_result"
    }
   ],
   "source": [
    "(5 > 4) and (3 == 5)"
   ]
  },
  {
   "cell_type": "code",
   "execution_count": 5,
   "id": "1fd7fee7",
   "metadata": {},
   "outputs": [
    {
     "data": {
      "text/plain": [
       "False"
      ]
     },
     "execution_count": 5,
     "metadata": {},
     "output_type": "execute_result"
    }
   ],
   "source": [
    "not (5 > 4)"
   ]
  },
  {
   "cell_type": "code",
   "execution_count": 6,
   "id": "bca703c4",
   "metadata": {},
   "outputs": [
    {
     "data": {
      "text/plain": [
       "True"
      ]
     },
     "execution_count": 6,
     "metadata": {},
     "output_type": "execute_result"
    }
   ],
   "source": [
    "(5 > 4) or (3 == 5)"
   ]
  },
  {
   "cell_type": "code",
   "execution_count": 7,
   "id": "735c6515",
   "metadata": {},
   "outputs": [
    {
     "data": {
      "text/plain": [
       "False"
      ]
     },
     "execution_count": 7,
     "metadata": {},
     "output_type": "execute_result"
    }
   ],
   "source": [
    "not ((5 > 4) or (3 == 5))"
   ]
  },
  {
   "cell_type": "code",
   "execution_count": 8,
   "id": "2d8e4ad1",
   "metadata": {},
   "outputs": [
    {
     "data": {
      "text/plain": [
       "False"
      ]
     },
     "execution_count": 8,
     "metadata": {},
     "output_type": "execute_result"
    }
   ],
   "source": [
    "(True and True) and (True == False)"
   ]
  },
  {
   "cell_type": "code",
   "execution_count": 9,
   "id": "991822dd",
   "metadata": {},
   "outputs": [
    {
     "data": {
      "text/plain": [
       "True"
      ]
     },
     "execution_count": 9,
     "metadata": {},
     "output_type": "execute_result"
    }
   ],
   "source": [
    "(not False) or (not True)"
   ]
  },
  {
   "cell_type": "code",
   "execution_count": null,
   "id": "2addd375",
   "metadata": {},
   "outputs": [],
   "source": [
    "5. What are the six comparison operators?"
   ]
  },
  {
   "cell_type": "code",
   "execution_count": null,
   "id": "7f431d28",
   "metadata": {},
   "outputs": [],
   "source": [
    "Ans:\n",
    "    == , != , < , > , <= , =>"
   ]
  },
  {
   "cell_type": "code",
   "execution_count": null,
   "id": "8d8395a3",
   "metadata": {},
   "outputs": [],
   "source": [
    "6. How do you tell the difference between the equal to and \n",
    "assignment operators?Describe a condition and when you would use one ?"
   ]
  },
  {
   "cell_type": "code",
   "execution_count": null,
   "id": "c49a1f7d",
   "metadata": {},
   "outputs": [],
   "source": [
    "Ans:\n",
    "    == is the equal to operator that compares two values and evaluates to a True\\False.\n",
    "    \n",
    "    =assignment operator that stores a value in a variable."
   ]
  },
  {
   "cell_type": "code",
   "execution_count": null,
   "id": "85a997c4",
   "metadata": {},
   "outputs": [],
   "source": [
    "7. Identify the three blocks in this code:"
   ]
  },
  {
   "cell_type": "code",
   "execution_count": 11,
   "id": "7b93ec1b",
   "metadata": {},
   "outputs": [
    {
     "name": "stdout",
     "output_type": "stream",
     "text": [
      "eggs\n",
      "bacon\n",
      "spam\n",
      "spam\n"
     ]
    }
   ],
   "source": [
    "spam = 10  \n",
    "if spam == 10:  \n",
    "    print('eggs')  # block 1\n",
    "if spam > 5:  \n",
    "    print('bacon')  # block 2\n",
    "else:  \n",
    "    print('ham')  # block 3\n",
    "print('spam')  \n",
    "print('spam')"
   ]
  },
  {
   "cell_type": "code",
   "execution_count": null,
   "id": "60ec7e12",
   "metadata": {},
   "outputs": [],
   "source": [
    "8. Write code that prints Hello if 1 is stored in spam, prints Howdy if 2 is \n",
    "stored in spam, and prints Greetings! if anything else is stored in spam."
   ]
  },
  {
   "cell_type": "code",
   "execution_count": 17,
   "id": "34326ad1",
   "metadata": {},
   "outputs": [
    {
     "name": "stdout",
     "output_type": "stream",
     "text": [
      "enter the nuber5\n",
      "Greetings!\n"
     ]
    }
   ],
   "source": [
    "spam = int(input(\"enter the nuber\"))\n",
    "if spam == 1:  \n",
    "    print('Hello')  # block 1\n",
    "elif spam== 2:  \n",
    "    print('Howdy')  # block 2\n",
    "else:  \n",
    "    print('Greetings!')  # block 3\n"
   ]
  },
  {
   "cell_type": "code",
   "execution_count": null,
   "id": "5f46469a",
   "metadata": {},
   "outputs": [],
   "source": [
    "9.If your programme is stuck in an endless loop, what keys you’ll press?"
   ]
  },
  {
   "cell_type": "code",
   "execution_count": null,
   "id": "cdd7a478",
   "metadata": {},
   "outputs": [],
   "source": [
    "Ans:\n",
    "    Ctrl-c"
   ]
  },
  {
   "cell_type": "code",
   "execution_count": null,
   "id": "894e3ba0",
   "metadata": {},
   "outputs": [],
   "source": [
    "10. How can you tell the difference between break and continue?"
   ]
  },
  {
   "cell_type": "code",
   "execution_count": null,
   "id": "5da7cf09",
   "metadata": {},
   "outputs": [],
   "source": [
    "Ans:\n",
    "    Break:The break statement terminates the loop containing it.\n",
    "    Continue: The continue statement is used to skip the rest of the code inside a loop for the current iteration only."
   ]
  },
  {
   "cell_type": "code",
   "execution_count": null,
   "id": "08cd086a",
   "metadata": {},
   "outputs": [],
   "source": [
    "11. In a for loop, what is the difference between range(10), range(0, 10), and range(0, 10, 1)?"
   ]
  },
  {
   "cell_type": "code",
   "execution_count": null,
   "id": "415179c9",
   "metadata": {},
   "outputs": [],
   "source": [
    "Ans:\n",
    "     range(10) call range from 0 to 9 (but not include 10)\n",
    "     range (0,10) tells the loop to start at 0 upto 9\n",
    "     range(0,10,1) tells the loop to start at 0 upto 9 by incrementing 1 on each iteration.\n",
    "        \n",
    "    All are same in different way of calling same range."
   ]
  },
  {
   "cell_type": "code",
   "execution_count": null,
   "id": "e9c3c593",
   "metadata": {},
   "outputs": [],
   "source": [
    "12. Write a short program that prints the numbers 1 to 10 using a for loop. \n",
    "Then write an equivalent program that prints the numbers 1 to 10 using a while loop ?"
   ]
  },
  {
   "cell_type": "code",
   "execution_count": 23,
   "id": "9ba8c6a0",
   "metadata": {},
   "outputs": [
    {
     "name": "stdout",
     "output_type": "stream",
     "text": [
      "1 2 3 4 5 6 7 8 9 10 "
     ]
    }
   ],
   "source": [
    "for i in range(1,11,1):\n",
    "    print(i, end=\" \")"
   ]
  },
  {
   "cell_type": "code",
   "execution_count": 35,
   "id": "fafbb919",
   "metadata": {},
   "outputs": [
    {
     "name": "stdout",
     "output_type": "stream",
     "text": [
      "1 2 3 4 5 6 7 8 9 10 "
     ]
    }
   ],
   "source": [
    "i=1\n",
    "while i<=10:\n",
    "    print(i, end=\" \")\n",
    "    i+=1"
   ]
  },
  {
   "cell_type": "code",
   "execution_count": null,
   "id": "c214da1e",
   "metadata": {},
   "outputs": [],
   "source": [
    "13. If you had a function named bacon() inside a module named spam, how would you call it after importing spam ?"
   ]
  },
  {
   "cell_type": "code",
   "execution_count": null,
   "id": "583da57b",
   "metadata": {},
   "outputs": [],
   "source": [
    "spam.bacon()"
   ]
  }
 ],
 "metadata": {
  "kernelspec": {
   "display_name": "Python 3 (ipykernel)",
   "language": "python",
   "name": "python3"
  },
  "language_info": {
   "codemirror_mode": {
    "name": "ipython",
    "version": 3
   },
   "file_extension": ".py",
   "mimetype": "text/x-python",
   "name": "python",
   "nbconvert_exporter": "python",
   "pygments_lexer": "ipython3",
   "version": "3.9.7"
  }
 },
 "nbformat": 4,
 "nbformat_minor": 5
}
