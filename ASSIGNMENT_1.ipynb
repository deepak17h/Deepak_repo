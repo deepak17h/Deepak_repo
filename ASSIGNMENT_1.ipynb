{
 "cells": [
  {
   "cell_type": "raw",
   "id": "4959ec23",
   "metadata": {},
   "source": [
    "1. In the below elements which of them are values or an expression? eg:- values can be integer or string and expressions will be mathematical operators."
   ]
  },
  {
   "cell_type": "raw",
   "id": "87e9ed31",
   "metadata": {},
   "source": [
    "Ans:    Operators: *,-,/,+\n",
    "        Expressions: 'hello', 87.8, 6"
   ]
  },
  {
   "cell_type": "raw",
   "id": "54595b50",
   "metadata": {},
   "source": [
    "2. What is the difference between string and variable?"
   ]
  },
  {
   "cell_type": "code",
   "execution_count": null,
   "id": "99a97d1d",
   "metadata": {},
   "outputs": [],
   "source": [
    "Ans: \n",
    "Variable:   A variable is a named location used to store data in the memory. \n",
    "            Variable that holds data that can be changed later in the program.\n",
    "            Ex: number = 10\n",
    "                number = 1.1\n",
    "String:     A string is a sequence of characters.\n",
    "            Strings can be created by enclosing characters inside a single quote or double-quotes.\n",
    "            To represent multiline strings and docstrings with triple Quotes.\n",
    "            Strings are immutable.\n",
    "            my_string = 'Hello'\n",
    "            print(my_string)\n",
    "            my_string = \"Hello\"\n",
    "            print(my_string)\n",
    "            my_string = \"\"\"Hello, welcome to\n",
    "            the world of Python\"\"\"\n",
    "            print(my_string)\n"
   ]
  },
  {
   "cell_type": "code",
   "execution_count": null,
   "id": "b8c624ff",
   "metadata": {},
   "outputs": [],
   "source": [
    "3. Describe three different Data Types ?"
   ]
  },
  {
   "cell_type": "code",
   "execution_count": null,
   "id": "321800cd",
   "metadata": {},
   "outputs": [],
   "source": [
    "Ans:\n",
    "    Text Type:\tstring\n",
    "    Numeric Types:\tint, float, complex \n",
    "    Sequence Types:\tlist, tuple, range"
   ]
  },
  {
   "cell_type": "code",
   "execution_count": null,
   "id": "ae1a0c68",
   "metadata": {},
   "outputs": [],
   "source": [
    "4. What is an expression made up of? What do all expressions do?"
   ]
  },
  {
   "cell_type": "code",
   "execution_count": null,
   "id": "797b3227",
   "metadata": {},
   "outputs": [],
   "source": [
    "Ans: Expression is a combination of values and functions that are \n",
    "     combined and interpreted by the compiler to create a new value.\n",
    "     An expression is evaluated as per the precedence of its operators. \n",
    "     So that if there is more than one operator in an expression, \n",
    "     their precedence decides which operation will be performed first."
   ]
  },
  {
   "cell_type": "code",
   "execution_count": null,
   "id": "85be5a78",
   "metadata": {},
   "outputs": [],
   "source": [
    "5.This assignment statements, like spam = 10. What is the difference between an expression and a statement?"
   ]
  },
  {
   "cell_type": "code",
   "execution_count": null,
   "id": "063e4c0c",
   "metadata": {},
   "outputs": [],
   "source": [
    "Ans:\n",
    "    An expression is a combination of values, variables, operators, and calls to functions. Expressions need to be evaluated. \n",
    "    If you ask Python to print an expression, the interpreter evaluates the expression and displays the result.\n",
    "    eg: 4*5+20-40 is an example of a statement\n",
    "\n",
    "    A statement is a unit of code that has an effect, like creating a variable or \n",
    "    displaying a value.When we type a statement, the interpreter executes it,\n",
    "    which means that it does whatever the statement says. In general, statements don’t have values.\n",
    "    eg: if statments, while statments"
   ]
  },
  {
   "cell_type": "code",
   "execution_count": null,
   "id": "0900902e",
   "metadata": {},
   "outputs": [],
   "source": [
    "6.After running the following code, what does the variable bacon contain?\n",
    "bacon = 22\n",
    "bacon + 1"
   ]
  },
  {
   "cell_type": "code",
   "execution_count": 1,
   "id": "288b1388",
   "metadata": {},
   "outputs": [
    {
     "data": {
      "text/plain": [
       "23"
      ]
     },
     "execution_count": 1,
     "metadata": {},
     "output_type": "execute_result"
    }
   ],
   "source": [
    "bacon = 22\n",
    "bacon + 1"
   ]
  },
  {
   "cell_type": "code",
   "execution_count": null,
   "id": "350ff994",
   "metadata": {},
   "outputs": [],
   "source": [
    "Ans: bacon contains 23"
   ]
  },
  {
   "cell_type": "code",
   "execution_count": 3,
   "id": "e7a36c31",
   "metadata": {},
   "outputs": [
    {
     "data": {
      "text/plain": [
       "'spamspamspam'"
      ]
     },
     "execution_count": 3,
     "metadata": {},
     "output_type": "execute_result"
    }
   ],
   "source": [
    "7.What should the values of the following two terms be?\n",
    "'spam'+'spamspam'\n",
    "'spam'*3"
   ]
  },
  {
   "cell_type": "code",
   "execution_count": null,
   "id": "b64609af",
   "metadata": {},
   "outputs": [],
   "source": [
    "Ans: 'spamspamspam'\n",
    "1.String Concatentation \n",
    "2.String Multiplication"
   ]
  },
  {
   "cell_type": "code",
   "execution_count": null,
   "id": "0e909835",
   "metadata": {},
   "outputs": [],
   "source": [
    "8. Why is eggs a valid variable name while 100 is invalid?"
   ]
  },
  {
   "cell_type": "code",
   "execution_count": null,
   "id": "6907ef7b",
   "metadata": {},
   "outputs": [],
   "source": [
    "Ans:\n",
    "    As per python,Variable names cannot begin with a number. The python rules for naming a variable are\n",
    "    1.Variable name must start with a letter or the underscore character.\n",
    "    2.Variable name cannot start with a number.\n",
    "    3.Variable name can only contain alpha-numeric characters and underscores (A-z, 0-9, & _ ).\n",
    "    4.Variable names are case-sensitive (name, INEURON and ineuron are three different variables).\n",
    "    5.The reserved words(keywords) cannot be used naming the variable."
   ]
  },
  {
   "cell_type": "code",
   "execution_count": null,
   "id": "2000f5c3",
   "metadata": {},
   "outputs": [],
   "source": [
    "9.What three functions can be used to get the integer,floating-point number,or string version of a value?"
   ]
  },
  {
   "cell_type": "code",
   "execution_count": null,
   "id": "42d7a8a8",
   "metadata": {},
   "outputs": [],
   "source": [
    "Ans:\n",
    "    int() function converts given input to int\n",
    "    print('int(10.0) -> ',int(10.0))\n",
    "    float() function converts given input to float\n",
    "    print('float(10) -> ',float(10))\n",
    "    str() function converts given input to string\n",
    "    print('str(10) -> ',str(10)) "
   ]
  },
  {
   "cell_type": "code",
   "execution_count": null,
   "id": "6cc9554a",
   "metadata": {},
   "outputs": [],
   "source": [
    "10.Why does this expression cause an error? how can you fix it?\n",
    "'I have eaten ' + 99 + 'burritos.'"
   ]
  },
  {
   "cell_type": "code",
   "execution_count": null,
   "id": "908254aa",
   "metadata": {},
   "outputs": [],
   "source": [
    "Ans:\n",
    "    error is due to the 99, as 99 is interger and it has to be convertred to string."
   ]
  },
  {
   "cell_type": "code",
   "execution_count": 4,
   "id": "cf95f96c",
   "metadata": {},
   "outputs": [
    {
     "ename": "TypeError",
     "evalue": "can only concatenate str (not \"int\") to str",
     "output_type": "error",
     "traceback": [
      "\u001b[1;31m---------------------------------------------------------------------------\u001b[0m",
      "\u001b[1;31mTypeError\u001b[0m                                 Traceback (most recent call last)",
      "\u001b[1;32m~\\AppData\\Local\\Temp/ipykernel_4124/1304403834.py\u001b[0m in \u001b[0;36m<module>\u001b[1;34m\u001b[0m\n\u001b[1;32m----> 1\u001b[1;33m \u001b[1;34m'I have eaten '\u001b[0m \u001b[1;33m+\u001b[0m \u001b[1;36m99\u001b[0m \u001b[1;33m+\u001b[0m \u001b[1;34m'burritos.'\u001b[0m\u001b[1;33m\u001b[0m\u001b[1;33m\u001b[0m\u001b[0m\n\u001b[0m",
      "\u001b[1;31mTypeError\u001b[0m: can only concatenate str (not \"int\") to str"
     ]
    }
   ],
   "source": [
    "'I have eaten ' + 99 + 'burritos.'"
   ]
  },
  {
   "cell_type": "code",
   "execution_count": 5,
   "id": "f878bfbb",
   "metadata": {},
   "outputs": [
    {
     "data": {
      "text/plain": [
       "'I have eaten 99burritos.'"
      ]
     },
     "execution_count": 5,
     "metadata": {},
     "output_type": "execute_result"
    }
   ],
   "source": [
    "'I have eaten ' + str(99) + 'burritos.'"
   ]
  },
  {
   "cell_type": "code",
   "execution_count": null,
   "id": "650a64b8",
   "metadata": {},
   "outputs": [],
   "source": []
  }
 ],
 "metadata": {
  "kernelspec": {
   "display_name": "Python 3 (ipykernel)",
   "language": "python",
   "name": "python3"
  },
  "language_info": {
   "codemirror_mode": {
    "name": "ipython",
    "version": 3
   },
   "file_extension": ".py",
   "mimetype": "text/x-python",
   "name": "python",
   "nbconvert_exporter": "python",
   "pygments_lexer": "ipython3",
   "version": "3.9.7"
  }
 },
 "nbformat": 4,
 "nbformat_minor": 5
}
